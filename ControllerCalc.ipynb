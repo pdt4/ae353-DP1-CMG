{
 "cells": [
  {
   "cell_type": "markdown",
   "metadata": {},
   "source": [
    "# Designing the Controller"
   ]
  },
  {
   "cell_type": "markdown",
   "metadata": {},
   "source": [
    "In this notebook, the following steps will be taken to create a controller for the CMG\n",
    "* Linearize the system\n",
    "* Find the eigenvalues of F for different values of K\n",
    "* Pick value of K that gives negative eigenvalues for F and test in CMG"
   ]
  },
  {
   "cell_type": "code",
   "execution_count": 1,
   "metadata": {},
   "outputs": [],
   "source": [
    "#importing the required libraries\n",
    "import numpy as np\n",
    "import matplotlib.pyplot as plt\n",
    "import sympy as sym\n",
    "from scipy import linalg"
   ]
  },
  {
   "cell_type": "markdown",
   "metadata": {},
   "source": [
    "## Linearizing the System"
   ]
  },
  {
   "cell_type": "code",
   "execution_count": 2,
   "metadata": {},
   "outputs": [],
   "source": [
    "#All the required symbols\n",
    "q1,q2,v1,v2,v3,tau2,tau3 = sym.symbols('q1,q2,v1,v2,v3,tau2,tau3')"
   ]
  },
  {
   "cell_type": "code",
   "execution_count": 3,
   "metadata": {},
   "outputs": [],
   "source": [
    "#Put the F function here\n",
    "f = sym.Matrix([[v1],[-(5*(200*tau3*sym.sin(q2)+sym.sin(2*q2)*v1*v2+2*sym.cos(q2)*v2*v3)/(10*(sym.sin(q2))**2 -511))],[v2],[10/11 * (100*tau2 - sym.cos(q2)*v1*v3)],[-((51100*tau3+5*sym.sin(2*q2)*v2*v3+511*sym.cos(q2)*v1*v2)/(10*(sym.sin(q2))**2 -511))]])\n"
   ]
  },
  {
   "cell_type": "code",
   "execution_count": 4,
   "metadata": {},
   "outputs": [],
   "source": [
    "#Making f an executable function\n",
    "f_num = sym.lambdify((q1,q2,v1,v2,v3,tau2,tau3), f)"
   ]
  },
  {
   "cell_type": "code",
   "execution_count": 5,
   "metadata": {},
   "outputs": [],
   "source": [
    "#Equilibrium points\n",
    "#q1 is not in any of the equations, so it can be anything, let's make it about 45 degrees (desired angle)\n",
    "#v3 can also be anything, but since we're starting off at 100 rpm, I'll set it as that.\n",
    "q1_e = 45*np.pi/180\n",
    "q2_e = 0\n",
    "v1_e = 0\n",
    "v2_e = 0\n",
    "v3_e = 10.472 #100 rpm, starting v3\n",
    "tau2_e = 0\n",
    "tau3_e = 0"
   ]
  },
  {
   "cell_type": "code",
   "execution_count": 6,
   "metadata": {},
   "outputs": [
    {
     "data": {
      "text/plain": [
       "array([[0.],\n",
       "       [0.],\n",
       "       [0.],\n",
       "       [0.],\n",
       "       [0.]])"
      ]
     },
     "execution_count": 6,
     "metadata": {},
     "output_type": "execute_result"
    }
   ],
   "source": [
    "#checking if the equilibrium points work:\n",
    "f_eq = f_num(q1_e,q2_e,v1_e,v2_e,v3_e,tau2_e,tau3_e)\n",
    "f_eq #evaluates to 0! Nice!"
   ]
  },
  {
   "cell_type": "code",
   "execution_count": 7,
   "metadata": {},
   "outputs": [],
   "source": [
    "#Now we find the Jacobians\n",
    "f_jacob_x = f.jacobian([q1,q2,v1,v2,v3])\n",
    "f_jacob_u = f.jacobian([tau2,tau3])\n",
    "\n",
    "#And then we find functions for A and B using this jacobian\n",
    "A_num = sym.lambdify((q1,q2,v1,v2,v3,tau2,tau3),f_jacob_x)\n",
    "B_num = sym.lambdify((q1,q2,v1,v2,v3,tau2,tau3),f_jacob_u)\n",
    "\n",
    "#Finally, we find the linearized state space model by evaluating A_num and B_num at the equilibrium points\n",
    "A = A_num(q1_e,q2_e,v1_e,v2_e,v3_e,tau2_e,tau3_e).astype(float)\n",
    "B = B_num(q1_e,q2_e,v1_e,v2_e,v3_e,tau2_e,tau3_e).astype(float)"
   ]
  },
  {
   "cell_type": "markdown",
   "metadata": {},
   "source": [
    "With all these steps, we have linearized our equations of motions about the chosen equilibrium point to create a state space model."
   ]
  },
  {
   "cell_type": "code",
   "execution_count": 8,
   "metadata": {},
   "outputs": [
    {
     "data": {
      "text/plain": [
       "array([[ 0.        ,  0.        ,  1.        ,  0.        ,  0.        ],\n",
       "       [ 0.        ,  0.        , -0.        ,  0.20493151, -0.        ],\n",
       "       [ 0.        ,  0.        ,  0.        ,  1.        ,  0.        ],\n",
       "       [ 0.        ,  0.        , -9.52      ,  0.        , -0.        ],\n",
       "       [ 0.        ,  0.        , -0.        ,  0.        , -0.        ]])"
      ]
     },
     "execution_count": 8,
     "metadata": {},
     "output_type": "execute_result"
    }
   ],
   "source": [
    "A"
   ]
  },
  {
   "cell_type": "code",
   "execution_count": 9,
   "metadata": {},
   "outputs": [
    {
     "data": {
      "text/plain": [
       "array([[  0.        ,   0.        ],\n",
       "       [  0.        ,   0.        ],\n",
       "       [  0.        ,   0.        ],\n",
       "       [ 90.90909091,   0.        ],\n",
       "       [  0.        , 100.        ]])"
      ]
     },
     "execution_count": 9,
     "metadata": {},
     "output_type": "execute_result"
    }
   ],
   "source": [
    "B"
   ]
  },
  {
   "cell_type": "markdown",
   "metadata": {},
   "source": [
    "## Finding Stable Controller Gains"
   ]
  },
  {
   "cell_type": "code",
   "execution_count": 18,
   "metadata": {},
   "outputs": [
    {
     "name": "stdout",
     "output_type": "stream",
     "text": [
      "[[0.018964702105617848, 0.8027593978851033, 0.20453752142072978, 0.9301488559357679, 0.0], [0.0, 0.0, 0.0, 0.0, 0.7468151788391355]]\n"
     ]
    }
   ],
   "source": [
    "i = 0\n",
    "while i == 0:\n",
    "    K = np.array([[np.random.rand(),np.random.rand(),np.random.rand(),np.random.rand(),0],[0,0,0,0,np.random.rand()]])\n",
    "    F  = A - B@K\n",
    "    s = linalg.eigvals(F)\n",
    "    if (s.real < 0).all() and (s.imag == 0).all():\n",
    "        i += 1\n",
    "print(K.tolist())"
   ]
  },
  {
   "cell_type": "code",
   "execution_count": 12,
   "metadata": {},
   "outputs": [
    {
     "name": "stdout",
     "output_type": "stream",
     "text": [
      "[[ 0.          0.          1.          0.          0.        ]\n",
      " [ 0.          0.         -0.          0.20493151 -0.        ]\n",
      " [ 0.          0.          0.          1.          0.        ]\n",
      " [ 0.          0.         -9.52        0.         -0.        ]\n",
      " [ 0.          0.         -0.          0.         -0.        ]]\n",
      "[[  0.           0.        ]\n",
      " [  0.           0.        ]\n",
      " [  0.           0.        ]\n",
      " [ 90.90909091   0.        ]\n",
      " [  0.         100.        ]]\n",
      "[[0.52989452 0.42754751 0.8954272  0.3351114  0.        ]\n",
      " [0.         0.         0.         0.         0.50905641]]\n"
     ]
    }
   ],
   "source": [
    "print(A)\n",
    "print(B)\n",
    "print(K)"
   ]
  },
  {
   "cell_type": "code",
   "execution_count": 61,
   "metadata": {},
   "outputs": [
    {
     "data": {
      "text/plain": [
       "array([-1.96998847e+01+0.j, -2.10670987e+00+0.j, -1.77120183e+00+0.j,\n",
       "       -3.13077743e-16+0.j, -9.16636131e+01+0.j])"
      ]
     },
     "execution_count": 61,
     "metadata": {},
     "output_type": "execute_result"
    }
   ],
   "source": [
    "K = np.array([[0.8085914584901315, 0.1356123563018472, 0.748872791294181, 0.2593557597971461, 0.0], [0.0, 0.0, 0.0, 0.0, 0.9166361309236439]])\n",
    "F  = A - B@K\n",
    "s = linalg.eigvals(F)\n",
    "s"
   ]
  },
  {
   "cell_type": "code",
   "execution_count": 19,
   "metadata": {},
   "outputs": [],
   "source": [
    "x0 = sym.Matrix([[-45*np.pi/180],[0],[0],[0],[10.472]])\n",
    "F_sym = sym.simplify(sym.Matrix(F))\n",
    "t = sym.Symbol('t')\n",
    "s,V = linalg.eig(F)\n",
    "Vinv = linalg.inv(V)\n",
    "S = np.diag(s)\n",
    "S_sym = sym.simplify(sym.Matrix(S))\n",
    "V_sym = sym.simplify(sym.Matrix(V))\n",
    "Vinv_sym = sym.simplify(sym.Matrix(Vinv))\n",
    "x = V_sym @ sym.exp(S_sym*t) @ Vinv_sym @ x0\n",
    "x = sym.simplify(x)\n",
    "x_num = sym.lambdify(t, x)"
   ]
  },
  {
   "cell_type": "code",
   "execution_count": 20,
   "metadata": {},
   "outputs": [
    {
     "data": {
      "text/plain": [
       "Text(0, 0.5, 'q1 (rad)')"
      ]
     },
     "execution_count": 20,
     "metadata": {},
     "output_type": "execute_result"
    },
    {
     "data": {
      "image/png": "[encoded data removed]",
      "text/plain": [
       "<Figure size 432x288 with 1 Axes>"
      ]
     },
     "metadata": {
      "needs_background": "light"
     },
     "output_type": "display_data"
    }
   ],
   "source": [
    "q = []\n",
    "for i in np.linspace(0,10,1001):\n",
    "    q.append(x_num(i)[0])\n",
    "q = np.array(q)\n",
    "plt.plot(np.linspace(0,10,1001),q+45*np.pi/180)\n",
    "plt.plot(np.linspace(0,10,1001),45*np.pi/180*np.ones(1001))\n",
    "plt.xlabel(\"Time\")\n",
    "plt.ylabel(\"q1 (rad)\")"
   ]
  },
  {
   "cell_type": "code",
   "execution_count": null,
   "metadata": {},
   "outputs": [],
   "source": []
  }
 ],
 "metadata": {
  "kernelspec": {
   "display_name": "Python 3 (ipykernel)",
   "language": "python",
   "name": "python3"
  },
  "language_info": {
   "codemirror_mode": {
    "name": "ipython",
    "version": 3
   },
   "file_extension": ".py",
   "mimetype": "text/x-python",
   "name": "python",
   "nbconvert_exporter": "python",
   "pygments_lexer": "ipython3",
   "version": "3.10.2"
  }
 },
 "nbformat": 4,
 "nbformat_minor": 2
}
